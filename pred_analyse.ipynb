{
 "cells": [
  {
   "cell_type": "code",
   "execution_count": null,
   "id": "initial_id",
   "metadata": {
    "ExecuteTime": {
     "end_time": "2025-02-23T22:37:28.329425Z",
     "start_time": "2025-02-23T22:37:28.002989Z"
    },
    "collapsed": true
   },
   "outputs": [],
   "source": [
    "import pandas as pd\n",
    "import json\n",
    "import numpy as np\n",
    "\n",
    "with open('./result/origin_val_result.json') as f:\n",
    "    data = json.load(f)"
   ]
  },
  {
   "cell_type": "code",
   "execution_count": 3,
   "id": "57fd34e72c502f07",
   "metadata": {
    "ExecuteTime": {
     "end_time": "2025-02-23T22:37:28.916768Z",
     "start_time": "2025-02-23T22:37:28.913787Z"
    }
   },
   "outputs": [],
   "source": [
    "def smape_loss(pred, true):\n",
    "    # assume pred and true are numpy arrays sized (n,)\n",
    "    return np.mean(np.abs(pred - true) / (np.abs(pred) + np.abs(true)))"
   ]
  },
  {
   "cell_type": "code",
   "execution_count": 4,
   "id": "df9e76a6b07b1d7c",
   "metadata": {
    "ExecuteTime": {
     "end_time": "2025-02-23T22:37:30.095674Z",
     "start_time": "2025-02-23T22:37:29.855292Z"
    }
   },
   "outputs": [],
   "source": [
    "records_loss = []\n",
    "batch_size = 2\n",
    "for record in data:\n",
    "    device_batch, pred_batch, true_batch = record['device'], record['pred'], record['true']\n",
    "\n",
    "    for index in range(batch_size):\n",
    "        device = device_batch[index]\n",
    "        pred = pred_batch[index]\n",
    "        true = true_batch[index]\n",
    "        # pred, true: list shaped (96,2), each element is a list of [cpu, mem]\n",
    "        cpu_pred = np.array(pred)[:, 0]\n",
    "        mem_pred = np.array(pred)[:, 1]\n",
    "        cpu_true = np.array(true)[:, 0]\n",
    "        mem_true = np.array(true)[:, 1]\n",
    "\n",
    "        cpu_smape = smape_loss(cpu_pred, cpu_true)\n",
    "        mem_smape = smape_loss(mem_pred, mem_true)\n",
    "        cpu_mae = np.mean(np.abs(cpu_pred - cpu_true))\n",
    "        mem_mae = np.mean(np.abs(mem_pred - mem_true))\n",
    "        cpu_mse = np.mean((cpu_pred - cpu_true) ** 2)\n",
    "        mem_mse = np.mean((mem_pred - mem_true) ** 2)\n",
    "\n",
    "        records_loss.append({\n",
    "            'device': device,\n",
    "            'cpu_smape': cpu_smape,\n",
    "            'cpu_mae': cpu_mae,\n",
    "            'cpu_mse': cpu_mse,\n",
    "            'mem_smape': mem_smape,\n",
    "            'mem_mae': mem_mae,\n",
    "            'mem_mse': mem_mse\n",
    "        })\n",
    "\n",
    "df = pd.DataFrame(records_loss)\n"
   ]
  },
  {
   "cell_type": "code",
   "execution_count": 5,
   "id": "ec0da05abae2b57f",
   "metadata": {
    "ExecuteTime": {
     "end_time": "2025-02-23T22:37:33.459102Z",
     "start_time": "2025-02-23T22:37:33.444798Z"
    }
   },
   "outputs": [],
   "source": [
    "# df.to_csv('pred_result_2025-01-23.csv', index=False)\n",
    "# count smape loss levels: 0.01, 0.02, ... , 0.19, 0.20, 0.30, 0.40, 0.50, others\n",
    "smape_levels = [0.01 * i for i in range(20)] + [0.20, 0.30, 0.40, 0.50]\n",
    "cpu_smape_counts = []\n",
    "mem_smape_counts = []\n",
    "for level in smape_levels:\n",
    "    cpu_smape_counts.append(df[df['cpu_smape'] <= level].shape[0])\n",
    "    mem_smape_counts.append(df[df['mem_smape'] <= level].shape[0])\n",
    "\n",
    "cpu_smape_counts.append(df.shape[0])\n",
    "mem_smape_counts.append(df.shape[0])\n",
    "\n",
    "# erase the first element of smape_levels\n",
    "df_cpu = pd.DataFrame({\n",
    "    'smape_level': smape_levels[1:] + ['>0.50'],\n",
    "    'count': np.diff(cpu_smape_counts),\n",
    "    'count_ratio': np.diff(cpu_smape_counts) / df.shape[0],\n",
    "    'count_cumsum': cpu_smape_counts[1:],\n",
    "    'sum_ratio': np.array(cpu_smape_counts[1:]) / df.shape[0]\n",
    "})\n",
    "df_mem = pd.DataFrame({\n",
    "    'smape_level': smape_levels[1:] + ['>0.50'],\n",
    "    'count': np.diff(mem_smape_counts),\n",
    "    'count_ratio': np.diff(mem_smape_counts) / df.shape[0],\n",
    "    'count_cumsum': mem_smape_counts[1:],\n",
    "    'sum_ratio': np.array(mem_smape_counts[1:]) / df.shape[0]\n",
    "})\n",
    "df_cpu['count_ratio'] = df_cpu['count_ratio'].map(lambda x: '{:.2%}'.format(x))\n",
    "df_mem['count_ratio'] = df_mem['count_ratio'].map(lambda x: '{:.2%}'.format(x))\n",
    "df_cpu['sum_ratio'] = df_cpu['sum_ratio'].map(lambda x: '{:.2%}'.format(x))\n",
    "df_mem['sum_ratio'] = df_mem['sum_ratio'].map(lambda x: '{:.2%}'.format(x))"
   ]
  },
  {
   "cell_type": "code",
   "execution_count": 6,
   "id": "754efd0c931a8d04",
   "metadata": {
    "ExecuteTime": {
     "end_time": "2025-02-23T22:37:45.270358Z",
     "start_time": "2025-02-23T22:37:45.266737Z"
    }
   },
   "outputs": [
    {
     "name": "stdout",
     "output_type": "stream",
     "text": [
      "   smape_level  count count_ratio  count_cumsum sum_ratio\n",
      "0         0.01     10       0.38%            10     0.38%\n",
      "1         0.02    227       8.72%           237     9.10%\n",
      "2         0.03    509      19.55%           746    28.65%\n",
      "3         0.04    354      13.59%          1100    42.24%\n",
      "4         0.05    154       5.91%          1254    48.16%\n",
      "5         0.06    139       5.34%          1393    53.49%\n",
      "6         0.07    153       5.88%          1546    59.37%\n",
      "7         0.08    126       4.84%          1672    64.21%\n",
      "8         0.09     91       3.49%          1763    67.70%\n",
      "9          0.1     57       2.19%          1820    69.89%\n",
      "10        0.11     37       1.42%          1857    71.31%\n",
      "11        0.12     31       1.19%          1888    72.50%\n",
      "12        0.13     17       0.65%          1905    73.16%\n",
      "13        0.14     19       0.73%          1924    73.89%\n",
      "14        0.15     31       1.19%          1955    75.08%\n",
      "15        0.16     56       2.15%          2011    77.23%\n",
      "16        0.17     85       3.26%          2096    80.49%\n",
      "17        0.18     83       3.19%          2179    83.68%\n",
      "18        0.19     95       3.65%          2274    87.33%\n",
      "19         0.2     39       1.50%          2313    88.82%\n",
      "20         0.3    206       7.91%          2519    96.74%\n",
      "21         0.4     49       1.88%          2568    98.62%\n",
      "22         0.5     19       0.73%          2587    99.35%\n",
      "23       >0.50     17       0.65%          2604   100.00%\n"
     ]
    }
   ],
   "source": [
    "print(df_cpu)"
   ]
  },
  {
   "cell_type": "code",
   "execution_count": 7,
   "id": "9a2e8f7893c23737",
   "metadata": {
    "ExecuteTime": {
     "end_time": "2025-02-23T22:37:46.410207Z",
     "start_time": "2025-02-23T22:37:46.397497Z"
    }
   },
   "outputs": [
    {
     "data": {
      "text/html": [
       "<div>\n",
       "<style scoped>\n",
       "    .dataframe tbody tr th:only-of-type {\n",
       "        vertical-align: middle;\n",
       "    }\n",
       "\n",
       "    .dataframe tbody tr th {\n",
       "        vertical-align: top;\n",
       "    }\n",
       "\n",
       "    .dataframe thead th {\n",
       "        text-align: right;\n",
       "    }\n",
       "</style>\n",
       "<table border=\"1\" class=\"dataframe\">\n",
       "  <thead>\n",
       "    <tr style=\"text-align: right;\">\n",
       "      <th></th>\n",
       "      <th>cpu_smape</th>\n",
       "      <th>cpu_mae</th>\n",
       "      <th>cpu_mse</th>\n",
       "      <th>mem_smape</th>\n",
       "      <th>mem_mae</th>\n",
       "      <th>mem_mse</th>\n",
       "    </tr>\n",
       "  </thead>\n",
       "  <tbody>\n",
       "    <tr>\n",
       "      <th>count</th>\n",
       "      <td>2604.000000</td>\n",
       "      <td>2604.000000</td>\n",
       "      <td>2604.000000</td>\n",
       "      <td>2604.000000</td>\n",
       "      <td>2604.000000</td>\n",
       "      <td>2604.000000</td>\n",
       "    </tr>\n",
       "    <tr>\n",
       "      <th>mean</th>\n",
       "      <td>0.091939</td>\n",
       "      <td>2.393919</td>\n",
       "      <td>43.803122</td>\n",
       "      <td>0.009294</td>\n",
       "      <td>0.676331</td>\n",
       "      <td>9.824807</td>\n",
       "    </tr>\n",
       "    <tr>\n",
       "      <th>std</th>\n",
       "      <td>0.093390</td>\n",
       "      <td>4.497810</td>\n",
       "      <td>180.817737</td>\n",
       "      <td>0.033745</td>\n",
       "      <td>2.752718</td>\n",
       "      <td>75.650978</td>\n",
       "    </tr>\n",
       "    <tr>\n",
       "      <th>min</th>\n",
       "      <td>0.005339</td>\n",
       "      <td>0.090180</td>\n",
       "      <td>0.015345</td>\n",
       "      <td>0.000011</td>\n",
       "      <td>0.000785</td>\n",
       "      <td>0.000001</td>\n",
       "    </tr>\n",
       "    <tr>\n",
       "      <th>25%</th>\n",
       "      <td>0.027765</td>\n",
       "      <td>0.602998</td>\n",
       "      <td>1.196840</td>\n",
       "      <td>0.000759</td>\n",
       "      <td>0.054076</td>\n",
       "      <td>0.004325</td>\n",
       "    </tr>\n",
       "    <tr>\n",
       "      <th>50%</th>\n",
       "      <td>0.053324</td>\n",
       "      <td>1.011930</td>\n",
       "      <td>3.841170</td>\n",
       "      <td>0.001551</td>\n",
       "      <td>0.096499</td>\n",
       "      <td>0.013156</td>\n",
       "    </tr>\n",
       "    <tr>\n",
       "      <th>75%</th>\n",
       "      <td>0.149412</td>\n",
       "      <td>2.362707</td>\n",
       "      <td>13.836604</td>\n",
       "      <td>0.003661</td>\n",
       "      <td>0.236786</td>\n",
       "      <td>0.073627</td>\n",
       "    </tr>\n",
       "    <tr>\n",
       "      <th>max</th>\n",
       "      <td>0.710397</td>\n",
       "      <td>48.680144</td>\n",
       "      <td>2784.626632</td>\n",
       "      <td>0.429166</td>\n",
       "      <td>36.494826</td>\n",
       "      <td>1540.609896</td>\n",
       "    </tr>\n",
       "  </tbody>\n",
       "</table>\n",
       "</div>"
      ],
      "text/plain": [
       "         cpu_smape      cpu_mae      cpu_mse    mem_smape      mem_mae  \\\n",
       "count  2604.000000  2604.000000  2604.000000  2604.000000  2604.000000   \n",
       "mean      0.091939     2.393919    43.803122     0.009294     0.676331   \n",
       "std       0.093390     4.497810   180.817737     0.033745     2.752718   \n",
       "min       0.005339     0.090180     0.015345     0.000011     0.000785   \n",
       "25%       0.027765     0.602998     1.196840     0.000759     0.054076   \n",
       "50%       0.053324     1.011930     3.841170     0.001551     0.096499   \n",
       "75%       0.149412     2.362707    13.836604     0.003661     0.236786   \n",
       "max       0.710397    48.680144  2784.626632     0.429166    36.494826   \n",
       "\n",
       "           mem_mse  \n",
       "count  2604.000000  \n",
       "mean      9.824807  \n",
       "std      75.650978  \n",
       "min       0.000001  \n",
       "25%       0.004325  \n",
       "50%       0.013156  \n",
       "75%       0.073627  \n",
       "max    1540.609896  "
      ]
     },
     "execution_count": 7,
     "metadata": {},
     "output_type": "execute_result"
    }
   ],
   "source": [
    "df.describe()"
   ]
  },
  {
   "cell_type": "code",
   "execution_count": null,
   "id": "8917c3c8b1ef3b89",
   "metadata": {},
   "outputs": [],
   "source": []
  }
 ],
 "metadata": {
  "kernelspec": {
   "display_name": "Python 3",
   "language": "python",
   "name": "python3"
  },
  "language_info": {
   "codemirror_mode": {
    "name": "ipython",
    "version": 2
   },
   "file_extension": ".py",
   "mimetype": "text/x-python",
   "name": "python",
   "nbconvert_exporter": "python",
   "pygments_lexer": "ipython2",
   "version": "2.7.6"
  }
 },
 "nbformat": 4,
 "nbformat_minor": 5
}
